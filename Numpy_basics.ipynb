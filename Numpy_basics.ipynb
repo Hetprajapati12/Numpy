{
 "cells": [
  {
   "cell_type": "code",
   "execution_count": 1,
   "id": "da97946b-10cb-432f-af15-8c339677c8de",
   "metadata": {},
   "outputs": [],
   "source": [
    "import numpy as np"
   ]
  },
  {
   "cell_type": "code",
   "execution_count": 2,
   "id": "dd352299-e447-4171-a0c4-049519234340",
   "metadata": {},
   "outputs": [
    {
     "data": {
      "text/plain": [
       "range(0, 10)"
      ]
     },
     "execution_count": 2,
     "metadata": {},
     "output_type": "execute_result"
    }
   ],
   "source": [
    "range(10)"
   ]
  },
  {
   "cell_type": "code",
   "execution_count": 3,
   "id": "e48eeb51-92f2-459f-9afc-b310633c3a1f",
   "metadata": {},
   "outputs": [
    {
     "data": {
      "text/plain": [
       "[0, 1, 2, 3, 4, 5, 6, 7, 8, 9]"
      ]
     },
     "execution_count": 3,
     "metadata": {},
     "output_type": "execute_result"
    }
   ],
   "source": [
    "list(range(10))"
   ]
  },
  {
   "cell_type": "code",
   "execution_count": 4,
   "id": "db7d90a7-cd9d-48cc-a42e-b1e55935782f",
   "metadata": {},
   "outputs": [
    {
     "data": {
      "text/plain": [
       "[3, 4, 5, 6, 7, 8, 9]"
      ]
     },
     "execution_count": 4,
     "metadata": {},
     "output_type": "execute_result"
    }
   ],
   "source": [
    "list(range(3,10))"
   ]
  },
  {
   "cell_type": "code",
   "execution_count": 5,
   "id": "2ef266a9-9e43-48de-af69-54ae24842443",
   "metadata": {},
   "outputs": [
    {
     "ename": "TypeError",
     "evalue": "'float' object cannot be interpreted as an integer",
     "output_type": "error",
     "traceback": [
      "\u001b[0;31m---------------------------------------------------------------------------\u001b[0m",
      "\u001b[0;31mTypeError\u001b[0m                                 Traceback (most recent call last)",
      "Cell \u001b[0;32mIn [5], line 1\u001b[0m\n\u001b[0;32m----> 1\u001b[0m \u001b[38;5;28mlist\u001b[39m(\u001b[38;5;28;43mrange\u001b[39;49m\u001b[43m(\u001b[49m\u001b[38;5;241;43m3\u001b[39;49m\u001b[43m,\u001b[49m\u001b[38;5;241;43m10.5\u001b[39;49m\u001b[43m)\u001b[49m)\n",
      "\u001b[0;31mTypeError\u001b[0m: 'float' object cannot be interpreted as an integer"
     ]
    }
   ],
   "source": [
    "list(range(3,10.5))"
   ]
  },
  {
   "cell_type": "code",
   "execution_count": 6,
   "id": "980ac302-169d-4631-942a-fd7b0cbb34e8",
   "metadata": {},
   "outputs": [
    {
     "data": {
      "text/plain": [
       "array([0, 1, 2, 3, 4, 5, 6, 7, 8, 9])"
      ]
     },
     "execution_count": 6,
     "metadata": {},
     "output_type": "execute_result"
    }
   ],
   "source": [
    "np.arange(10)"
   ]
  },
  {
   "cell_type": "code",
   "execution_count": 7,
   "id": "0327180b-91a0-4391-9d40-9c00b8f1a18b",
   "metadata": {},
   "outputs": [
    {
     "data": {
      "text/plain": [
       "array([0.5, 1.5, 2.5, 3.5, 4.5, 5.5, 6.5, 7.5, 8.5, 9.5])"
      ]
     },
     "execution_count": 7,
     "metadata": {},
     "output_type": "execute_result"
    }
   ],
   "source": [
    "np.arange(.5,10)"
   ]
  },
  {
   "cell_type": "code",
   "execution_count": 8,
   "id": "41eaa89c-53c2-4cd3-8a32-6e0a1100e0d1",
   "metadata": {},
   "outputs": [
    {
     "data": {
      "text/plain": [
       "array([ 5,  4,  3,  2,  1,  0, -1, -2, -3])"
      ]
     },
     "execution_count": 8,
     "metadata": {},
     "output_type": "execute_result"
    }
   ],
   "source": [
    "np.arange(5,-4,-1)"
   ]
  },
  {
   "cell_type": "code",
   "execution_count": 9,
   "id": "f67ef159-560b-466e-abc7-a9718b132120",
   "metadata": {},
   "outputs": [
    {
     "data": {
      "text/plain": [
       "array([ 5. ,  4.5,  4. ,  3.5,  3. ,  2.5,  2. ,  1.5,  1. ,  0.5,  0. ,\n",
       "       -0.5, -1. , -1.5, -2. , -2.5, -3. , -3.5])"
      ]
     },
     "execution_count": 9,
     "metadata": {},
     "output_type": "execute_result"
    }
   ],
   "source": [
    "np.arange(5,-4,-.5)"
   ]
  },
  {
   "cell_type": "code",
   "execution_count": 11,
   "id": "be722084-fd35-454d-b251-4ef28072e8a4",
   "metadata": {},
   "outputs": [
    {
     "data": {
      "text/plain": [
       "array([1.        , 1.21052632, 1.42105263, 1.63157895, 1.84210526,\n",
       "       2.05263158, 2.26315789, 2.47368421, 2.68421053, 2.89473684,\n",
       "       3.10526316, 3.31578947, 3.52631579, 3.73684211, 3.94736842,\n",
       "       4.15789474, 4.36842105, 4.57894737, 4.78947368, 5.        ])"
      ]
     },
     "execution_count": 11,
     "metadata": {},
     "output_type": "execute_result"
    }
   ],
   "source": [
    "np.linspace(1,5,20)"
   ]
  },
  {
   "cell_type": "code",
   "execution_count": 12,
   "id": "0443f2e8-2538-4f2a-97b6-b8915cbac3ed",
   "metadata": {},
   "outputs": [
    {
     "data": {
      "text/plain": [
       "[1.0,\n",
       " 1.2105263157894737,\n",
       " 1.4210526315789473,\n",
       " 1.631578947368421,\n",
       " 1.8421052631578947,\n",
       " 2.052631578947368,\n",
       " 2.263157894736842,\n",
       " 2.473684210526316,\n",
       " 2.6842105263157894,\n",
       " 2.894736842105263,\n",
       " 3.1052631578947367,\n",
       " 3.3157894736842106,\n",
       " 3.526315789473684,\n",
       " 3.7368421052631575,\n",
       " 3.9473684210526314,\n",
       " 4.157894736842105,\n",
       " 4.368421052631579,\n",
       " 4.578947368421052,\n",
       " 4.789473684210526,\n",
       " 5.0]"
      ]
     },
     "execution_count": 12,
     "metadata": {},
     "output_type": "execute_result"
    }
   ],
   "source": [
    "list(np.linspace(1,5,20))"
   ]
  },
  {
   "cell_type": "code",
   "execution_count": 13,
   "id": "de796b13-93b9-47b6-9d03-04e4d4e6fe2d",
   "metadata": {},
   "outputs": [
    {
     "data": {
      "text/plain": [
       "[array([1.        , 1.21052632, 1.42105263, 1.63157895, 1.84210526,\n",
       "        2.05263158, 2.26315789, 2.47368421, 2.68421053, 2.89473684,\n",
       "        3.10526316, 3.31578947, 3.52631579, 3.73684211, 3.94736842,\n",
       "        4.15789474, 4.36842105, 4.57894737, 4.78947368, 5.        ]),\n",
       " 0.21052631578947367]"
      ]
     },
     "execution_count": 13,
     "metadata": {},
     "output_type": "execute_result"
    }
   ],
   "source": [
    "list(np.linspace(1,5,20, retstep=True))"
   ]
  },
  {
   "cell_type": "code",
   "execution_count": 14,
   "id": "161bbb83-952a-4a44-a013-a15981658321",
   "metadata": {},
   "outputs": [
    {
     "data": {
      "text/plain": [
       "array([1.00000000e+01, 2.78255940e+06, 7.74263683e+11, 2.15443469e+17,\n",
       "       5.99484250e+22, 1.66810054e+28, 4.64158883e+33, 1.29154967e+39,\n",
       "       3.59381366e+44, 1.00000000e+50])"
      ]
     },
     "execution_count": 14,
     "metadata": {},
     "output_type": "execute_result"
    }
   ],
   "source": [
    "np.logspace(1,50,10)"
   ]
  },
  {
   "cell_type": "code",
   "execution_count": 15,
   "id": "c6288561-a15d-4771-9a1f-fa4026bc816b",
   "metadata": {},
   "outputs": [
    {
     "data": {
      "text/plain": [
       "array([0., 0., 0., 0., 0.])"
      ]
     },
     "execution_count": 15,
     "metadata": {},
     "output_type": "execute_result"
    }
   ],
   "source": [
    "np.zeros(5)"
   ]
  },
  {
   "cell_type": "code",
   "execution_count": 16,
   "id": "8a682786-bba1-48a0-8ca7-7e9b989cfe07",
   "metadata": {},
   "outputs": [
    {
     "data": {
      "text/plain": [
       "array([[0., 0., 0., 0., 0.],\n",
       "       [0., 0., 0., 0., 0.],\n",
       "       [0., 0., 0., 0., 0.]])"
      ]
     },
     "execution_count": 16,
     "metadata": {},
     "output_type": "execute_result"
    }
   ],
   "source": [
    "np.zeros((3,5))"
   ]
  },
  {
   "cell_type": "code",
   "execution_count": 17,
   "id": "b32c614e-7b37-4885-bedf-6df3433faba7",
   "metadata": {},
   "outputs": [
    {
     "data": {
      "text/plain": [
       "array([[[0., 0.],\n",
       "        [0., 0.],\n",
       "        [0., 0.],\n",
       "        [0., 0.],\n",
       "        [0., 0.]],\n",
       "\n",
       "       [[0., 0.],\n",
       "        [0., 0.],\n",
       "        [0., 0.],\n",
       "        [0., 0.],\n",
       "        [0., 0.]],\n",
       "\n",
       "       [[0., 0.],\n",
       "        [0., 0.],\n",
       "        [0., 0.],\n",
       "        [0., 0.],\n",
       "        [0., 0.]]])"
      ]
     },
     "execution_count": 17,
     "metadata": {},
     "output_type": "execute_result"
    }
   ],
   "source": [
    "np.zeros((3,5,2))"
   ]
  },
  {
   "cell_type": "code",
   "execution_count": 18,
   "id": "b4ad9cf9-211c-472e-94bf-3c90251369cb",
   "metadata": {},
   "outputs": [
    {
     "data": {
      "text/plain": [
       "array([1., 1., 1., 1., 1.])"
      ]
     },
     "execution_count": 18,
     "metadata": {},
     "output_type": "execute_result"
    }
   ],
   "source": [
    "np.ones(5)"
   ]
  },
  {
   "cell_type": "code",
   "execution_count": 22,
   "id": "ad7fb7d2-9323-454d-bc6c-5f6df33197ae",
   "metadata": {},
   "outputs": [
    {
     "data": {
      "text/plain": [
       "array([[[6., 6.],\n",
       "        [6., 6.],\n",
       "        [6., 6.],\n",
       "        [6., 6.]],\n",
       "\n",
       "       [[6., 6.],\n",
       "        [6., 6.],\n",
       "        [6., 6.],\n",
       "        [6., 6.]],\n",
       "\n",
       "       [[6., 6.],\n",
       "        [6., 6.],\n",
       "        [6., 6.],\n",
       "        [6., 6.]]])"
      ]
     },
     "execution_count": 22,
     "metadata": {},
     "output_type": "execute_result"
    }
   ],
   "source": [
    "np.ones((3,4,2)) * 6"
   ]
  },
  {
   "cell_type": "code",
   "execution_count": 23,
   "id": "2e92dfd3-6afa-4827-8119-5c8a233cb8a0",
   "metadata": {},
   "outputs": [
    {
     "data": {
      "text/plain": [
       "array([[4.66099171e-310, 0.00000000e+000, 0.00000000e+000],\n",
       "       [0.00000000e+000, 0.00000000e+000, 0.00000000e+000]])"
      ]
     },
     "execution_count": 23,
     "metadata": {},
     "output_type": "execute_result"
    }
   ],
   "source": [
    "np.empty((2,3))"
   ]
  },
  {
   "cell_type": "code",
   "execution_count": 24,
   "id": "65a95b54-565a-457b-9566-225744172d74",
   "metadata": {},
   "outputs": [
    {
     "data": {
      "text/plain": [
       "array([[1., 0., 0., 0.],\n",
       "       [0., 1., 0., 0.],\n",
       "       [0., 0., 1., 0.],\n",
       "       [0., 0., 0., 1.]])"
      ]
     },
     "execution_count": 24,
     "metadata": {},
     "output_type": "execute_result"
    }
   ],
   "source": [
    "np.eye(4)"
   ]
  },
  {
   "cell_type": "code",
   "execution_count": 25,
   "id": "85ffabb6-526f-482d-8d57-ef619c292ccc",
   "metadata": {},
   "outputs": [],
   "source": [
    "a=np.eye(4)"
   ]
  },
  {
   "cell_type": "code",
   "execution_count": 26,
   "id": "82b6c0b3-88ab-4d62-a799-92427122e99c",
   "metadata": {},
   "outputs": [
    {
     "data": {
      "text/plain": [
       "(4, 4)"
      ]
     },
     "execution_count": 26,
     "metadata": {},
     "output_type": "execute_result"
    }
   ],
   "source": [
    "a.shape"
   ]
  },
  {
   "cell_type": "code",
   "execution_count": 27,
   "id": "a31dbf1a-a583-4470-b35c-162362473490",
   "metadata": {},
   "outputs": [
    {
     "data": {
      "text/plain": [
       "array([[1., 0., 0., 0.],\n",
       "       [0., 1., 0., 0.],\n",
       "       [0., 0., 1., 0.],\n",
       "       [0., 0., 0., 1.]])"
      ]
     },
     "execution_count": 27,
     "metadata": {},
     "output_type": "execute_result"
    }
   ],
   "source": [
    "a"
   ]
  },
  {
   "cell_type": "code",
   "execution_count": 28,
   "id": "26484b9b-9855-4173-902e-ebbadf49513d",
   "metadata": {},
   "outputs": [
    {
     "data": {
      "text/plain": [
       "16"
      ]
     },
     "execution_count": 28,
     "metadata": {},
     "output_type": "execute_result"
    }
   ],
   "source": [
    "a.size"
   ]
  },
  {
   "cell_type": "code",
   "execution_count": 29,
   "id": "e779a27f-d800-4dcb-8d98-a947ac152123",
   "metadata": {},
   "outputs": [
    {
     "data": {
      "text/plain": [
       "2"
      ]
     },
     "execution_count": 29,
     "metadata": {},
     "output_type": "execute_result"
    }
   ],
   "source": [
    "a.ndim"
   ]
  },
  {
   "cell_type": "code",
   "execution_count": 30,
   "id": "d5e00178-80bd-4f03-88bf-55ff14881bd5",
   "metadata": {},
   "outputs": [],
   "source": [
    "a1=np.random.randn(3,4)"
   ]
  },
  {
   "cell_type": "code",
   "execution_count": 31,
   "id": "cc317071-3514-4b30-b69d-54d4faaa188f",
   "metadata": {},
   "outputs": [
    {
     "data": {
      "text/plain": [
       "array([[ 0.35624175,  0.20998237, -0.59742698, -1.13762626],\n",
       "       [ 1.46984935, -0.86299468, -1.20490489,  0.88080818],\n",
       "       [-0.7977952 ,  0.3691516 , -0.02947558, -0.26822382]])"
      ]
     },
     "execution_count": 31,
     "metadata": {},
     "output_type": "execute_result"
    }
   ],
   "source": [
    "a1"
   ]
  },
  {
   "cell_type": "code",
   "execution_count": 32,
   "id": "d62cd738-2f63-4ff2-8989-8e8d2a651438",
   "metadata": {},
   "outputs": [],
   "source": [
    "import pandas as pd"
   ]
  },
  {
   "cell_type": "code",
   "execution_count": 33,
   "id": "d90cc96b-b8ca-4420-8421-698b9782cd79",
   "metadata": {},
   "outputs": [
    {
     "data": {
      "text/html": [
       "<div>\n",
       "<style scoped>\n",
       "    .dataframe tbody tr th:only-of-type {\n",
       "        vertical-align: middle;\n",
       "    }\n",
       "\n",
       "    .dataframe tbody tr th {\n",
       "        vertical-align: top;\n",
       "    }\n",
       "\n",
       "    .dataframe thead th {\n",
       "        text-align: right;\n",
       "    }\n",
       "</style>\n",
       "<table border=\"1\" class=\"dataframe\">\n",
       "  <thead>\n",
       "    <tr style=\"text-align: right;\">\n",
       "      <th></th>\n",
       "      <th>0</th>\n",
       "      <th>1</th>\n",
       "      <th>2</th>\n",
       "      <th>3</th>\n",
       "    </tr>\n",
       "  </thead>\n",
       "  <tbody>\n",
       "    <tr>\n",
       "      <th>0</th>\n",
       "      <td>0.356242</td>\n",
       "      <td>0.209982</td>\n",
       "      <td>-0.597427</td>\n",
       "      <td>-1.137626</td>\n",
       "    </tr>\n",
       "    <tr>\n",
       "      <th>1</th>\n",
       "      <td>1.469849</td>\n",
       "      <td>-0.862995</td>\n",
       "      <td>-1.204905</td>\n",
       "      <td>0.880808</td>\n",
       "    </tr>\n",
       "    <tr>\n",
       "      <th>2</th>\n",
       "      <td>-0.797795</td>\n",
       "      <td>0.369152</td>\n",
       "      <td>-0.029476</td>\n",
       "      <td>-0.268224</td>\n",
       "    </tr>\n",
       "  </tbody>\n",
       "</table>\n",
       "</div>"
      ],
      "text/plain": [
       "          0         1         2         3\n",
       "0  0.356242  0.209982 -0.597427 -1.137626\n",
       "1  1.469849 -0.862995 -1.204905  0.880808\n",
       "2 -0.797795  0.369152 -0.029476 -0.268224"
      ]
     },
     "execution_count": 33,
     "metadata": {},
     "output_type": "execute_result"
    }
   ],
   "source": [
    "pd.DataFrame(a1)"
   ]
  },
  {
   "cell_type": "code",
   "execution_count": 34,
   "id": "b9313089-9028-4237-9cb1-b76b6b94dbd4",
   "metadata": {},
   "outputs": [
    {
     "data": {
      "text/plain": [
       "array([[ 0.35624175,  0.20998237, -0.59742698, -1.13762626],\n",
       "       [ 1.46984935, -0.86299468, -1.20490489,  0.88080818],\n",
       "       [-0.7977952 ,  0.3691516 , -0.02947558, -0.26822382]])"
      ]
     },
     "execution_count": 34,
     "metadata": {},
     "output_type": "execute_result"
    }
   ],
   "source": [
    "a1"
   ]
  },
  {
   "cell_type": "code",
   "execution_count": 35,
   "id": "f56a64d3-47e7-4be8-8f73-a4afbef03430",
   "metadata": {},
   "outputs": [
    {
     "data": {
      "text/plain": [
       "-0.8629946812540896"
      ]
     },
     "execution_count": 35,
     "metadata": {},
     "output_type": "execute_result"
    }
   ],
   "source": [
    "a1[1][1]"
   ]
  },
  {
   "cell_type": "code",
   "execution_count": 36,
   "id": "fa008fb1-eab9-4e6d-99e6-ea84dc265489",
   "metadata": {},
   "outputs": [
    {
     "data": {
      "text/plain": [
       "array([[ 0.35624175,  0.20998237],\n",
       "       [ 1.46984935, -0.86299468]])"
      ]
     },
     "execution_count": 36,
     "metadata": {},
     "output_type": "execute_result"
    }
   ],
   "source": [
    "a1[0:2,0:2]"
   ]
  },
  {
   "cell_type": "code",
   "execution_count": 37,
   "id": "abe38e89-2e64-4c24-906e-2f82aaedf422",
   "metadata": {},
   "outputs": [
    {
     "data": {
      "text/plain": [
       "array([[ 0.35624175,  0.20998237],\n",
       "       [ 1.46984935, -0.86299468]])"
      ]
     },
     "execution_count": 37,
     "metadata": {},
     "output_type": "execute_result"
    }
   ],
   "source": [
    "a1[[0,1],0:2]"
   ]
  },
  {
   "cell_type": "code",
   "execution_count": 38,
   "id": "9e49be0a-758d-425c-8011-af9208b65758",
   "metadata": {},
   "outputs": [
    {
     "data": {
      "text/plain": [
       "array([[ 0.35624175,  0.20998237, -0.59742698, -1.13762626],\n",
       "       [ 1.46984935, -0.86299468, -1.20490489,  0.88080818],\n",
       "       [-0.7977952 ,  0.3691516 , -0.02947558, -0.26822382]])"
      ]
     },
     "execution_count": 38,
     "metadata": {},
     "output_type": "execute_result"
    }
   ],
   "source": [
    "a1"
   ]
  },
  {
   "cell_type": "code",
   "execution_count": 39,
   "id": "54ea7bc1-cd9c-4826-a4af-77894584624e",
   "metadata": {},
   "outputs": [
    {
     "data": {
      "text/plain": [
       "array([ 0.88080818, -0.26822382])"
      ]
     },
     "execution_count": 39,
     "metadata": {},
     "output_type": "execute_result"
    }
   ],
   "source": [
    "a1[[1,2],3]"
   ]
  },
  {
   "cell_type": "code",
   "execution_count": 40,
   "id": "3dc90e97-b367-4e8c-892c-31b5a7fe73ec",
   "metadata": {},
   "outputs": [
    {
     "data": {
      "text/plain": [
       "array([[2, 2, 2],\n",
       "       [2, 2, 2],\n",
       "       [2, 2, 1]])"
      ]
     },
     "execution_count": 40,
     "metadata": {},
     "output_type": "execute_result"
    }
   ],
   "source": [
    "np.random.randint(1,3,(3,3))"
   ]
  },
  {
   "cell_type": "code",
   "execution_count": 42,
   "id": "e2072d2d-fd4c-45a6-aa5b-fa7d8d54349b",
   "metadata": {},
   "outputs": [],
   "source": [
    "m1=np.random.randint(1,3,(3,3))"
   ]
  },
  {
   "cell_type": "code",
   "execution_count": 43,
   "id": "081d99f0-3834-4612-be9d-ef9107e6a24d",
   "metadata": {},
   "outputs": [
    {
     "data": {
      "text/plain": [
       "array([[1, 1, 1],\n",
       "       [1, 2, 2],\n",
       "       [1, 2, 2]])"
      ]
     },
     "execution_count": 43,
     "metadata": {},
     "output_type": "execute_result"
    }
   ],
   "source": [
    "m1"
   ]
  },
  {
   "cell_type": "code",
   "execution_count": 44,
   "id": "41584597-1e5a-4cff-a8ed-b0236813984d",
   "metadata": {},
   "outputs": [],
   "source": [
    "m2=np.random.randint(2,4,(3,3))"
   ]
  },
  {
   "cell_type": "code",
   "execution_count": 45,
   "id": "54e7157c-ce4d-427d-bc61-f3bf1ca4e85c",
   "metadata": {},
   "outputs": [
    {
     "data": {
      "text/plain": [
       "array([[3, 2, 3],\n",
       "       [3, 2, 3],\n",
       "       [3, 3, 3]])"
      ]
     },
     "execution_count": 45,
     "metadata": {},
     "output_type": "execute_result"
    }
   ],
   "source": [
    "m2"
   ]
  },
  {
   "cell_type": "code",
   "execution_count": 46,
   "id": "5ca4be15-837b-4f97-9867-f58be628354f",
   "metadata": {},
   "outputs": [
    {
     "data": {
      "text/plain": [
       "array([[3, 2, 3],\n",
       "       [3, 4, 6],\n",
       "       [3, 6, 6]])"
      ]
     },
     "execution_count": 46,
     "metadata": {},
     "output_type": "execute_result"
    }
   ],
   "source": [
    "m1*m2"
   ]
  },
  {
   "cell_type": "code",
   "execution_count": 47,
   "id": "30fa9d09-a5c4-4405-b318-b83c701333bb",
   "metadata": {},
   "outputs": [
    {
     "data": {
      "text/plain": [
       "array([[ 9,  7,  9],\n",
       "       [15, 12, 15],\n",
       "       [15, 12, 15]])"
      ]
     },
     "execution_count": 47,
     "metadata": {},
     "output_type": "execute_result"
    }
   ],
   "source": [
    "m1@m2"
   ]
  },
  {
   "cell_type": "code",
   "execution_count": 48,
   "id": "0c015e28-441e-4efb-a4f5-c7173057f569",
   "metadata": {},
   "outputs": [
    {
     "data": {
      "text/plain": [
       "array([[1, 1, 1],\n",
       "       [1, 2, 2],\n",
       "       [1, 2, 2]])"
      ]
     },
     "execution_count": 48,
     "metadata": {},
     "output_type": "execute_result"
    }
   ],
   "source": [
    "m1"
   ]
  },
  {
   "cell_type": "code",
   "execution_count": 49,
   "id": "a029ea3d-878c-48fa-90f5-c6b3432fe120",
   "metadata": {},
   "outputs": [
    {
     "data": {
      "text/plain": [
       "array([[1, 1, 1],\n",
       "       [1, 4, 4],\n",
       "       [1, 4, 4]])"
      ]
     },
     "execution_count": 49,
     "metadata": {},
     "output_type": "execute_result"
    }
   ],
   "source": [
    "pow(m1,2)"
   ]
  },
  {
   "cell_type": "code",
   "execution_count": 50,
   "id": "91f94b8b-6bd9-47b2-ba1b-ef27cf6ae9cb",
   "metadata": {},
   "outputs": [
    {
     "data": {
      "text/plain": [
       "array([[1.        , 1.        , 1.        ],\n",
       "       [1.        , 1.41421356, 1.41421356],\n",
       "       [1.        , 1.41421356, 1.41421356]])"
      ]
     },
     "execution_count": 50,
     "metadata": {},
     "output_type": "execute_result"
    }
   ],
   "source": [
    "np.sqrt(m1)"
   ]
  },
  {
   "cell_type": "code",
   "execution_count": 53,
   "id": "3c1544d7-edc9-4e64-a9fc-8a695568d246",
   "metadata": {},
   "outputs": [
    {
     "data": {
      "text/plain": [
       "array([[0.     , 0.     , 0.     ],\n",
       "       [0.     , 0.30103, 0.30103],\n",
       "       [0.     , 0.30103, 0.30103]])"
      ]
     },
     "execution_count": 53,
     "metadata": {},
     "output_type": "execute_result"
    }
   ],
   "source": [
    "np.log10(m1)"
   ]
  },
  {
   "cell_type": "code",
   "execution_count": 54,
   "id": "e78245b6-9732-4568-a133-f07b89d287c5",
   "metadata": {},
   "outputs": [
    {
     "data": {
      "text/plain": [
       "array([[2.71828183, 2.71828183, 2.71828183],\n",
       "       [2.71828183, 7.3890561 , 7.3890561 ],\n",
       "       [2.71828183, 7.3890561 , 7.3890561 ]])"
      ]
     },
     "execution_count": 54,
     "metadata": {},
     "output_type": "execute_result"
    }
   ],
   "source": [
    "np.exp(m1)"
   ]
  },
  {
   "cell_type": "code",
   "execution_count": 55,
   "id": "83516201-56f8-42fd-bb79-76a4cad59a1b",
   "metadata": {},
   "outputs": [
    {
     "data": {
      "text/plain": [
       "array([[1, 1, 1],\n",
       "       [1, 4, 4],\n",
       "       [1, 4, 4]])"
      ]
     },
     "execution_count": 55,
     "metadata": {},
     "output_type": "execute_result"
    }
   ],
   "source": [
    "m1**2"
   ]
  },
  {
   "cell_type": "code",
   "execution_count": null,
   "id": "1d2d70a8-37b2-4c33-b0d8-6ab3628f81f7",
   "metadata": {},
   "outputs": [],
   "source": []
  }
 ],
 "metadata": {
  "kernelspec": {
   "display_name": "Python 3 (ipykernel)",
   "language": "python",
   "name": "python3"
  },
  "language_info": {
   "codemirror_mode": {
    "name": "ipython",
    "version": 3
   },
   "file_extension": ".py",
   "mimetype": "text/x-python",
   "name": "python",
   "nbconvert_exporter": "python",
   "pygments_lexer": "ipython3",
   "version": "3.10.6"
  }
 },
 "nbformat": 4,
 "nbformat_minor": 5
}
